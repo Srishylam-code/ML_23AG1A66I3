{
  "nbformat": 4,
  "nbformat_minor": 0,
  "metadata": {
    "colab": {
      "provenance": [],
      "authorship_tag": "ABX9TyOlBzdVgtQtOxScKndr3wkS",
      "include_colab_link": true
    },
    "kernelspec": {
      "name": "python3",
      "display_name": "Python 3"
    },
    "language_info": {
      "name": "python"
    }
  },
  "cells": [
    {
      "cell_type": "markdown",
      "metadata": {
        "id": "view-in-github",
        "colab_type": "text"
      },
      "source": [
        "<a href=\"https://colab.research.google.com/github/Srishylam-code/ML_23AG1A66I3/blob/main/Numpy.ipynb\" target=\"_parent\"><img src=\"https://colab.research.google.com/assets/colab-badge.svg\" alt=\"Open In Colab\"/></a>"
      ]
    },
    {
      "cell_type": "code",
      "execution_count": null,
      "metadata": {
        "id": "_qW8ETUcCdes"
      },
      "outputs": [],
      "source": [
        "array1="
      ]
    },
    {
      "cell_type": "code",
      "metadata": {
        "id": "4aec6b0d"
      },
      "source": [
        "import numpy as np"
      ],
      "execution_count": 20,
      "outputs": []
    },
    {
      "cell_type": "code",
      "source": [
        "array1 = np.array([1, 2, 3, 4, 5])"
      ],
      "metadata": {
        "id": "sWilzV3XDrAK"
      },
      "execution_count": 23,
      "outputs": []
    },
    {
      "cell_type": "code",
      "source": [
        "print(array1[0])\n",
        "print(array1[2])\n",
        "print(array1[4])"
      ],
      "metadata": {
        "colab": {
          "base_uri": "https://localhost:8080/"
        },
        "id": "tWGtfWd0N4Xj",
        "outputId": "85d0e180-b7fd-42d9-a947-fd6568505e44"
      },
      "execution_count": 30,
      "outputs": [
        {
          "output_type": "stream",
          "name": "stdout",
          "text": [
            "1\n",
            "3\n",
            "5\n"
          ]
        }
      ]
    },
    {
      "cell_type": "code",
      "source": [
        "array1[1]=10\n",
        "print(array1)"
      ],
      "metadata": {
        "colab": {
          "base_uri": "https://localhost:8080/"
        },
        "id": "V6p5SM3dN9aq",
        "outputId": "f87a62a8-390e-4c6f-e62c-5b377873187c"
      },
      "execution_count": 31,
      "outputs": [
        {
          "output_type": "stream",
          "name": "stdout",
          "text": [
            "[ 1 10  3  4  5]\n"
          ]
        }
      ]
    },
    {
      "cell_type": "code",
      "source": [
        "print(array1.ndim)"
      ],
      "metadata": {
        "colab": {
          "base_uri": "https://localhost:8080/"
        },
        "id": "z2kFAdjyLbKs",
        "outputId": "56d16813-0cd0-4410-a9c1-b1d12bee401c"
      },
      "execution_count": 24,
      "outputs": [
        {
          "output_type": "stream",
          "name": "stdout",
          "text": [
            "1\n"
          ]
        }
      ]
    },
    {
      "cell_type": "code",
      "source": [
        "print(array1.size)"
      ],
      "metadata": {
        "colab": {
          "base_uri": "https://localhost:8080/"
        },
        "id": "uzRg8i5zLzRX",
        "outputId": "f3df06e0-29ea-456b-dc14-2a04ff91ce9f"
      },
      "execution_count": 14,
      "outputs": [
        {
          "output_type": "stream",
          "name": "stdout",
          "text": [
            "24\n"
          ]
        }
      ]
    },
    {
      "cell_type": "code",
      "source": [
        "print(array1.itemsize)"
      ],
      "metadata": {
        "colab": {
          "base_uri": "https://localhost:8080/"
        },
        "id": "ls2TdckvMM2V",
        "outputId": "3b9e165d-65a6-4810-b4ea-8e9e9dd8a246"
      },
      "execution_count": 15,
      "outputs": [
        {
          "output_type": "stream",
          "name": "stdout",
          "text": [
            "8\n"
          ]
        }
      ]
    },
    {
      "cell_type": "code",
      "source": [
        "array_2d = np.array([\n",
        "    [1, 2, 3],\n",
        "    [4, 5, 6],\n",
        "    [7, 8, 9]\n",
        "])\n",
        "\n",
        "print(array_2d[2][2])"
      ],
      "metadata": {
        "colab": {
          "base_uri": "https://localhost:8080/"
        },
        "id": "2CMfnsr-Eizn",
        "outputId": "7ca2af5b-0fc7-4956-bb9c-56fc473b727e"
      },
      "execution_count": 26,
      "outputs": [
        {
          "output_type": "stream",
          "name": "stdout",
          "text": [
            "9\n"
          ]
        }
      ]
    },
    {
      "cell_type": "code",
      "source": [
        "\n",
        "print(array_2d.ndim)"
      ],
      "metadata": {
        "colab": {
          "base_uri": "https://localhost:8080/"
        },
        "id": "BIK835DQNNJK",
        "outputId": "4f36f496-2d96-4104-972b-8afbdd4c1b80"
      },
      "execution_count": 27,
      "outputs": [
        {
          "output_type": "stream",
          "name": "stdout",
          "text": [
            "2\n"
          ]
        }
      ]
    },
    {
      "cell_type": "code",
      "source": [
        "print(array_2d.size)"
      ],
      "metadata": {
        "colab": {
          "base_uri": "https://localhost:8080/"
        },
        "id": "Q8PntNfRNc1f",
        "outputId": "203b24fa-039c-433f-f69d-253eb1066b18"
      },
      "execution_count": 28,
      "outputs": [
        {
          "output_type": "stream",
          "name": "stdout",
          "text": [
            "9\n"
          ]
        }
      ]
    },
    {
      "cell_type": "code",
      "source": [
        "array1a = np.array([6, 7, 8, 10, 13])\n",
        "\n",
        "array2 = np.array([6, 7, 8, 10, 13], dtype=np.int32)\n",
        "\n",
        "print(array1a.itemsize)\n",
        "print(array2.itemsize)"
      ],
      "metadata": {
        "colab": {
          "base_uri": "https://localhost:8080/"
        },
        "id": "UjqLiQQINold",
        "outputId": "a60cf3a3-2b6b-4eb0-ce56-bbc82b3306da"
      },
      "execution_count": 29,
      "outputs": [
        {
          "output_type": "stream",
          "name": "stdout",
          "text": [
            "8\n",
            "4\n"
          ]
        }
      ]
    },
    {
      "cell_type": "code",
      "source": [
        "array_3d = [\n",
        "    [\n",
        "        [1, 2, 3],\n",
        "        [4, 5, 6]\n",
        "    ],\n",
        "    [\n",
        "        [7, 8, 9],\n",
        "        [10, 11, 12]\n",
        "    ]\n",
        "]\n",
        "\n",
        "print(array_3d)\n"
      ],
      "metadata": {
        "colab": {
          "base_uri": "https://localhost:8080/"
        },
        "id": "CO5bx7TqHHwX",
        "outputId": "acd7d5e4-54bd-4b7b-9eca-1037e4fe7d9c"
      },
      "execution_count": 10,
      "outputs": [
        {
          "output_type": "stream",
          "name": "stdout",
          "text": [
            "[[[1, 2, 3], [4, 5, 6]], [[7, 8, 9], [10, 11, 12]]]\n"
          ]
        }
      ]
    },
    {
      "cell_type": "code",
      "source": [
        "array1 = np.array([[[1, 2, 3, 4],\n",
        "                [5, 6, 7, 8],\n",
        "                [9, 10, 11, 12]],\n",
        "\n",
        "                [[13, 14, 15, 16],\n",
        "                 [17, 18, 19, 20],\n",
        "                 [21, 22, 23, 24]]])\n",
        "\n",
        "print(array1[0][1][3])"
      ],
      "metadata": {
        "colab": {
          "base_uri": "https://localhost:8080/"
        },
        "id": "jHktACu1HyFG",
        "outputId": "36975875-5124-4653-ba84-9bac8de45c4e"
      },
      "execution_count": 11,
      "outputs": [
        {
          "output_type": "stream",
          "name": "stdout",
          "text": [
            "8\n"
          ]
        }
      ]
    },
    {
      "cell_type": "code",
      "source": [
        "array1 = np.array([1, 2, 3, 4, 5, 6, 7])\n",
        "median = np.median(array1)\n",
        "print(median)"
      ],
      "metadata": {
        "colab": {
          "base_uri": "https://localhost:8080/"
        },
        "id": "mo--m-IuOUGJ",
        "outputId": "507b8e0f-efe4-4a12-e492-485d57d79642"
      },
      "execution_count": 32,
      "outputs": [
        {
          "output_type": "stream",
          "name": "stdout",
          "text": [
            "4.0\n"
          ]
        }
      ]
    },
    {
      "cell_type": "code",
      "source": [
        "marks = np.array([76, 78, 81, 66, 85, 22, 30, 87])\n",
        "mean_marks = np.mean(marks)\n",
        "print(mean_marks)"
      ],
      "metadata": {
        "colab": {
          "base_uri": "https://localhost:8080/"
        },
        "id": "kb1qWfHDOhBm",
        "outputId": "83e3272d-6aea-42cb-cc05-e7856ecd10b8"
      },
      "execution_count": 35,
      "outputs": [
        {
          "output_type": "stream",
          "name": "stdout",
          "text": [
            "65.625\n"
          ]
        }
      ]
    },
    {
      "cell_type": "code",
      "source": [
        "marks = np.array([76, 78, 81, 66, 85, 90, 57])\n",
        "std_marks = np.std(marks)\n",
        "print(std_marks)"
      ],
      "metadata": {
        "colab": {
          "base_uri": "https://localhost:8080/"
        },
        "id": "y0Zob2-7PS6d",
        "outputId": "0d6c075b-3093-46af-dc12-8b20845762d9"
      },
      "execution_count": 36,
      "outputs": [
        {
          "output_type": "stream",
          "name": "stdout",
          "text": [
            "10.466662333722402\n"
          ]
        }
      ]
    },
    {
      "cell_type": "code",
      "source": [
        "\n",
        "marks = np.array([76, 78, 81, 66, 85,90,100])\n",
        "std_marks = np.min(marks)\n",
        "print(std_marks)"
      ],
      "metadata": {
        "colab": {
          "base_uri": "https://localhost:8080/"
        },
        "id": "WHRq4qnEPbD1",
        "outputId": "a6e4a5fe-e9b1-4195-e5f4-58760684dda3"
      },
      "execution_count": 37,
      "outputs": [
        {
          "output_type": "stream",
          "name": "stdout",
          "text": [
            "66\n"
          ]
        }
      ]
    },
    {
      "cell_type": "code",
      "source": [
        "\n",
        "marks = np.array([76, 78, 81, 66, 85,90,100])\n",
        "std_marks = np.max(marks)\n",
        "print(std_marks)"
      ],
      "metadata": {
        "colab": {
          "base_uri": "https://localhost:8080/"
        },
        "id": "0Aoqnm_GPiWC",
        "outputId": "d86b4a57-4c33-4feb-a2cd-7609dd1ced90"
      },
      "execution_count": 38,
      "outputs": [
        {
          "output_type": "stream",
          "name": "stdout",
          "text": [
            "100\n"
          ]
        }
      ]
    }
  ]
}